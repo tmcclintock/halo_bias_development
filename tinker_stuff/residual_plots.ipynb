{
 "cells": [
  {
   "cell_type": "code",
   "execution_count": 1,
   "metadata": {
    "collapsed": true
   },
   "outputs": [],
   "source": [
    "import numpy as np\n",
    "import aemulus_data as AD\n",
    "import matplotlib.pyplot as plt\n",
    "plt.rc(\"text\", usetex=True)\n",
    "plt.rc(\"font\", size=14, family='serif')\n",
    "import vapeplot\n",
    "cmap = plt.get_cmap(\"seismic\")\n",
    "#cmap = vapeplot.cmap('jazzcup')\n",
    "sfs = AD.scale_factors()\n",
    "zs = 1./sfs - 1\n",
    "#cmap = sns.cubehelix_palette(8, dark=1, light = 0, reverse=0, as_cmap=1)\n",
    "colors = [cmap(ci) for ci in np.linspace(1,0,len(sfs))]\n",
    "\n",
    "%matplotlib inline"
   ]
  },
  {
   "cell_type": "code",
   "execution_count": 2,
   "metadata": {},
   "outputs": [
    {
     "name": "stdout",
     "output_type": "stream",
     "text": [
      "(7045,)\n"
     ]
    }
   ],
   "source": [
    "m,nu,b,be,tb,pd,pde,box,snap = np.loadtxt(\"tinker_resids.txt\").T\n",
    "print m.shape"
   ]
  },
  {
   "cell_type": "code",
   "execution_count": 3,
   "metadata": {},
   "outputs": [
    {
     "data": {
      "image/png": "[encoded data removed]",
      "text/plain": [
       "<matplotlib.figure.Figure at 0x10c3e79d0>"
      ]
     },
     "metadata": {},
     "output_type": "display_data"
    }
   ],
   "source": [
    "fig, axes = plt.subplots(ncols=2, nrows=1)\n",
    "ax1, ax2 = axes[0], axes[1]\n",
    "x1 = pd\n",
    "x2 = pd/pde\n",
    "xm1 = [x1[i==snap] for i in range(10)]\n",
    "xm2 = [x2[i==snap] for i in range(10)]\n",
    "ax1.hist(xm1, 50, color=colors, alpha=0.5, normed=True, histtype='bar', stacked=True)\n",
    "ax2.hist(xm2, 50, color=colors, alpha=0.5, normed=True, histtype='bar', stacked=True)\n",
    "ax1.set_xlabel(r\"$(b-b_{\\rm Tinker})/b_{\\rm Tinker}$\", fontsize=16)\n",
    "ax2.set_xlabel(r\"$(b-b_{\\rm Tinker})/\\sigma_b$\", fontsize=16)\n",
    "ax2.set_yticks([])\n",
    "ax1.set_yticks([])\n",
    "plt.subplots_adjust(bottom=0.15, left=0.2, hspace=0, wspace=0.0)\n",
    "fig.savefig(\"bias_tinker_residuals_figure.png\", dpi=400, bbox_inches='tight')"
   ]
  },
  {
   "cell_type": "code",
   "execution_count": null,
   "metadata": {
    "collapsed": true
   },
   "outputs": [],
   "source": []
  }
 ],
 "metadata": {
  "kernelspec": {
   "display_name": "Python 2",
   "language": "python",
   "name": "python2"
  },
  "language_info": {
   "codemirror_mode": {
    "name": "ipython",
    "version": 2
   },
   "file_extension": ".py",
   "mimetype": "text/x-python",
   "name": "python",
   "nbconvert_exporter": "python",
   "pygments_lexer": "ipython2",
   "version": "2.7.13"
  }
 },
 "nbformat": 4,
 "nbformat_minor": 2
}
